{
 "cells": [
  {
   "attachments": {},
   "cell_type": "markdown",
   "metadata": {},
   "source": [
    "This document outlines the structure of the Katte.ca backend system\n",
    "\n",
    "Katte.ca/\n",
    "|-index.html\n",
    "|-index.css\n",
    "|-404.html\n",
    "|-news/\n",
    "|    |-posts/\n",
    "|    |    |-[files of format dd-mm-yyyy.txt]\n",
    "|    |    |-[topic folders]\n",
    "|    |        |-[blog posts]\n",
    "|    |-news.html\n",
    "|    |-news.css"
   ]
  },
  {
   "attachments": {},
   "cell_type": "markdown",
   "metadata": {},
   "source": [
    "To Do:\n",
    "-Implement server-side code in preperation for server migration to self-hosting\n",
    ">recent post button should get most recent timestamped post from any topic folder\n",
    "\n",
    "-Discord Bot interface for authoring posts\n",
    ">simple fields \"api\" to allow simple formatting of posts\n",
    ">automatic post to html generation\n",
    ">css builder api for advanced formatting\n",
    "\n",
    "-Server Dashboard Page\n",
    "\n",
    "-Bot Dashboard Page\n",
    "\n",
    "-Visual Overhaul\n",
    ">Modernize Layout with proper site-wide header bar\n",
    ">fancy animations\n",
    "\n",
    "-come up with better post catalogue method\n",
    ">single file with running log of posts and titles?\n",
    ">file with relevant recent post info?"
   ]
  }
 ],
 "metadata": {
  "language_info": {
   "name": "python"
  },
  "orig_nbformat": 4
 },
 "nbformat": 4,
 "nbformat_minor": 2
}
